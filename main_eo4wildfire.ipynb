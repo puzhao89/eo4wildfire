{
  "nbformat": 4,
  "nbformat_minor": 0,
  "metadata": {
    "colab": {
      "name": "main_eo4wildfire.ipynb",
      "provenance": []
    },
    "kernelspec": {
      "name": "python3",
      "display_name": "Python 3"
    }
  },
  "cells": [
    {
      "cell_type": "code",
      "metadata": {
        "colab": {
          "base_uri": "https://localhost:8080/"
        },
        "id": "-kQbig6yHKlq",
        "outputId": "bfda3371-af95-4192-c8ac-a6677a2b166a"
      },
      "source": [
        "%cd \"/content/drive/My Drive\""
      ],
      "execution_count": 16,
      "outputs": [
        {
          "output_type": "stream",
          "text": [
            "/content/drive/My Drive\n"
          ],
          "name": "stdout"
        }
      ]
    },
    {
      "cell_type": "code",
      "metadata": {
        "colab": {
          "base_uri": "https://localhost:8080/"
        },
        "id": "plHcg5jVHQjM",
        "outputId": "6f86a3e8-6fc0-4fb6-b3b3-0ca65d17af90"
      },
      "source": [
        "!git clone https://github.com/puzhao89/eo4wildfire.git"
      ],
      "execution_count": 13,
      "outputs": [
        {
          "output_type": "stream",
          "text": [
            "fatal: destination path 'eo4wildfire' already exists and is not an empty directory.\n"
          ],
          "name": "stdout"
        }
      ]
    },
    {
      "cell_type": "code",
      "metadata": {
        "colab": {
          "base_uri": "https://localhost:8080/"
        },
        "id": "sN0RweNWHlMV",
        "outputId": "e063aee6-8e57-4f84-ec56-234b81f92927"
      },
      "source": [
        "%cd \"/content/drive/My Drive/eo4wildfire\""
      ],
      "execution_count": 18,
      "outputs": [
        {
          "output_type": "stream",
          "text": [
            "/content/drive/My Drive/eo4wildfire\n",
            "/content/drive/My Drive/eo4wildfire\n"
          ],
          "name": "stdout"
        }
      ]
    },
    {
      "cell_type": "markdown",
      "metadata": {
        "id": "bFSprowSQXpD"
      },
      "source": [
        "## Copy Data to Your Own Drive"
      ]
    },
    {
      "cell_type": "code",
      "metadata": {
        "id": "x-LJKX-NQCbT"
      },
      "source": [
        ""
      ],
      "execution_count": null,
      "outputs": []
    },
    {
      "cell_type": "markdown",
      "metadata": {
        "id": "idv0e8ODQDSE"
      },
      "source": [
        "## Run on-the-fly version"
      ]
    },
    {
      "cell_type": "code",
      "metadata": {
        "id": "xYuPJZOZKMhY"
      },
      "source": [
        "# https://github.com/qubvel/segmentation_models.pytorch#input-channels\r\n",
        "!pip install git+https://github.com/qubvel/segmentation_models.pytorch\r\n",
        "!pip install -U git+https://github.com/albu/albumentations --no-cache-dir\r\n",
        "!pip install imagecodecs\r\n",
        "!pip install prettyprinter\r\n",
        "!pip install kornia"
      ],
      "execution_count": null,
      "outputs": []
    },
    {
      "cell_type": "code",
      "metadata": {
        "id": "XRa-zghLP_1U"
      },
      "source": [
        "!python run_nrt_monitoring.py"
      ],
      "execution_count": null,
      "outputs": []
    },
    {
      "cell_type": "markdown",
      "metadata": {
        "id": "MVHk8ft6QOEM"
      },
      "source": [
        "## Run off-line version"
      ]
    },
    {
      "cell_type": "code",
      "metadata": {
        "id": "Sb_xGQdrQNeG"
      },
      "source": [
        "!python run_seg_model_BC_Wildfire"
      ],
      "execution_count": null,
      "outputs": []
    }
  ]
}